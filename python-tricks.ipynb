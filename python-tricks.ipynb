{
 "cells": [
  {
   "cell_type": "code",
   "execution_count": null,
   "metadata": {},
   "outputs": [],
   "source": [
    "a = 0"
   ]
  },
  {
   "cell_type": "code",
   "execution_count": 1,
   "metadata": {},
   "outputs": [
    {
     "name": "stdout",
     "output_type": "stream",
     "text": [
      "A B D E F C "
     ]
    }
   ],
   "source": [
    "# Example of Depth-First Search (DFS) using a graph represented as an adjacency list\n",
    "\n",
    "# Define the graph as an adjacency list\n",
    "graph = {\n",
    "    'A': ['B', 'C'],\n",
    "    'B': ['D', 'E'],\n",
    "    'C': ['F'],\n",
    "    'D': [],\n",
    "    'E': ['F'],\n",
    "    'F': []\n",
    "}\n",
    "\n",
    "# DFS function\n",
    "def dfs(graph, start, visited=None):\n",
    "    if visited is None:\n",
    "        visited = set()\n",
    "    visited.add(start)\n",
    "    print(start, end=' ')  # Print the node as we visit it\n",
    "\n",
    "    for neighbor in graph[start]:\n",
    "        if neighbor not in visited:\n",
    "            dfs(graph, neighbor, visited)\n",
    "\n",
    "# Call the DFS function\n",
    "dfs(graph, 'A')"
   ]
  },
  {
   "cell_type": "markdown",
   "metadata": {},
   "source": [
    "## with dependence graph\n",
    "I have a project which is as follow:\n",
    "1. every node have direct dependence node\n",
    "2. if a dependent node A is already present in another dependent node B, prune the dependent A\n",
    "\n",
    "The goal is to get minimum number of deirect dependent node\n",
    "\n"
   ]
  },
  {
   "cell_type": "code",
   "execution_count": 5,
   "metadata": {},
   "outputs": [
    {
     "name": "stdout",
     "output_type": "stream",
     "text": [
      "Pruned Dependency Graph:\n",
      "A: ['B', 'C']\n",
      "B: ['D', 'E']\n",
      "C: ['F', 'E']\n",
      "D: []\n",
      "E: []\n",
      "F: []\n"
     ]
    }
   ],
   "source": [
    "# Example: Pruning redundant dependencies in a dependency graph\n",
    "\n",
    "# Define the dependency graph\n",
    "dependency_graph = {\n",
    "    'A': ['B', 'C', 'E', 'F'],\n",
    "    'B': ['D', 'E'],\n",
    "    'C': ['E', 'F'],\n",
    "    'D': [],\n",
    "    'E': [],\n",
    "    'F': []\n",
    "}\n",
    "\n",
    "# Function to prune redundant dependencies\n",
    "def prune_dependencies(graph):\n",
    "    def dfs(node, visited):\n",
    "        if node in visited:\n",
    "            return set()\n",
    "        visited.add(node)\n",
    "        all_dependencies = set()\n",
    "        for neighbor in graph[node]:\n",
    "            all_dependencies.add(neighbor)\n",
    "            all_dependencies.update(dfs(neighbor, visited))\n",
    "        return all_dependencies\n",
    "\n",
    "    pruned_graph = {}\n",
    "    for node in graph:\n",
    "        visited = set()\n",
    "        direct_dependencies = set(graph[node])\n",
    "        all_indirect_dependencies = set()\n",
    "        for neighbor in graph[node]:\n",
    "            all_indirect_dependencies.update(dfs(neighbor, visited))\n",
    "        # Prune dependencies that are already covered indirectly\n",
    "        pruned_graph[node] = list(direct_dependencies - all_indirect_dependencies)\n",
    "    return pruned_graph\n",
    "\n",
    "# Prune the dependency graph\n",
    "pruned_graph = prune_dependencies(dependency_graph)\n",
    "\n",
    "# Print the pruned graph\n",
    "print(\"Pruned Dependency Graph:\")\n",
    "for node, dependencies in pruned_graph.items():\n",
    "    print(f\"{node}: {dependencies}\")"
   ]
  }
 ],
 "metadata": {
  "kernelspec": {
   "display_name": "Python 3",
   "language": "python",
   "name": "python3"
  },
  "language_info": {
   "codemirror_mode": {
    "name": "ipython",
    "version": 3
   },
   "file_extension": ".py",
   "mimetype": "text/x-python",
   "name": "python",
   "nbconvert_exporter": "python",
   "pygments_lexer": "ipython3",
   "version": "3.10.12"
  }
 },
 "nbformat": 4,
 "nbformat_minor": 2
}
