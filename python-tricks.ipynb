{
 "cells": [
  {
   "cell_type": "code",
   "execution_count": null,
   "metadata": {},
   "outputs": [],
   "source": [
    "a = 0"
   ]
  },
  {
   "cell_type": "code",
   "execution_count": 1,
   "metadata": {},
   "outputs": [
    {
     "name": "stdout",
     "output_type": "stream",
     "text": [
      "A B D E F C "
     ]
    }
   ],
   "source": [
    "# Example of Depth-First Search (DFS) using a graph represented as an adjacency list\n",
    "\n",
    "# Define the graph as an adjacency list\n",
    "graph = {\n",
    "    'A': ['B', 'C'],\n",
    "    'B': ['D', 'E'],\n",
    "    'C': ['F'],\n",
    "    'D': [],\n",
    "    'E': ['F'],\n",
    "    'F': []\n",
    "}\n",
    "\n",
    "# DFS function\n",
    "def dfs(graph, start, visited=None):\n",
    "    if visited is None:\n",
    "        visited = set()\n",
    "    visited.add(start)\n",
    "    print(start, end=' ')  # Print the node as we visit it\n",
    "\n",
    "    for neighbor in graph[start]:\n",
    "        if neighbor not in visited:\n",
    "            dfs(graph, neighbor, visited)\n",
    "\n",
    "# Call the DFS function\n",
    "dfs(graph, 'A')"
   ]
  },
  {
   "cell_type": "markdown",
   "metadata": {},
   "source": [
    "## with dependence graph\n",
    "I have a project which is as follow:\n",
    "1. every node have direct dependence node\n",
    "2. if a dependent node A is already present in another dependent node B, prune the dependent A\n",
    "\n",
    "The goal is to get minimum number of deirect dependent node\n",
    "\n"
   ]
  },
  {
   "cell_type": "code",
   "execution_count": 5,
   "metadata": {},
   "outputs": [
    {
     "name": "stdout",
     "output_type": "stream",
     "text": [
      "Pruned Dependency Graph:\n",
      "A: ['B', 'C']\n",
      "B: ['D', 'E']\n",
      "C: ['F', 'E']\n",
      "D: []\n",
      "E: []\n",
      "F: []\n"
     ]
    }
   ],
   "source": [
    "# Example: Pruning redundant dependencies in a dependency graph\n",
    "\n",
    "# Define the dependency graph\n",
    "dependency_graph = {\n",
    "    'A': ['B', 'C', 'E', 'F'],\n",
    "    'B': ['D', 'E'],\n",
    "    'C': ['E', 'F'],\n",
    "    'D': [],\n",
    "    'E': [],\n",
    "    'F': []\n",
    "}\n",
    "\n",
    "# Function to prune redundant dependencies\n",
    "def prune_dependencies(graph):\n",
    "    def dfs(node, visited):\n",
    "        if node in visited:\n",
    "            return set()\n",
    "        visited.add(node)\n",
    "        all_dependencies = set()\n",
    "        for neighbor in graph[node]:\n",
    "            all_dependencies.add(neighbor)\n",
    "            all_dependencies.update(dfs(neighbor, visited))\n",
    "        return all_dependencies\n",
    "\n",
    "    pruned_graph = {}\n",
    "    for node in graph:\n",
    "        visited = set()\n",
    "        direct_dependencies = set(graph[node])\n",
    "        all_indirect_dependencies = set()\n",
    "        for neighbor in graph[node]:\n",
    "            all_indirect_dependencies.update(dfs(neighbor, visited))\n",
    "        # Prune dependencies that are already covered indirectly\n",
    "        pruned_graph[node] = list(direct_dependencies - all_indirect_dependencies)\n",
    "    return pruned_graph\n",
    "\n",
    "# Prune the dependency graph\n",
    "pruned_graph = prune_dependencies(dependency_graph)\n",
    "\n",
    "# Print the pruned graph\n",
    "print(\"Pruned Dependency Graph:\")\n",
    "for node, dependencies in pruned_graph.items():\n",
    "    print(f\"{node}: {dependencies}\")"
   ]
  },
  {
   "cell_type": "code",
   "execution_count": null,
   "metadata": {
    "tags": [
     "graph_prune"
    ]
   },
   "outputs": [],
   "source": [
    "# Example: Pruning redundant dependencies in a dependency graph (preserving order)\n",
    "\n",
    "# Define the dependency graph\n",
    "dependency_graph = {\n",
    "    'A': ['B', 'C', 'E', 'F'],\n",
    "    'B': ['D', 'E'],\n",
    "    'C': ['E', 'F'],\n",
    "    'D': [],\n",
    "    'E': [],\n",
    "    'F': []\n",
    "}\n",
    "\n",
    "# Function to prune redundant dependencies while preserving order\n",
    "def prune_dependencies(graph):\n",
    "    def dfs(node, visited):\n",
    "        if node in visited:\n",
    "            return []\n",
    "        visited.add(node)\n",
    "        all_dependencies = []\n",
    "        for neighbor in graph[node]:\n",
    "            if neighbor not in all_dependencies:\n",
    "                all_dependencies.append(neighbor)\n",
    "            all_dependencies.extend(dfs(neighbor, visited))\n",
    "        return all_dependencies\n",
    "\n",
    "    pruned_graph = {}\n",
    "    for node in graph:\n",
    "        visited = set()\n",
    "        direct_dependencies = graph[node]\n",
    "        all_indirect_dependencies = []\n",
    "        for neighbor in graph[node]:\n",
    "            all_indirect_dependencies.extend(dfs(neighbor, visited))\n",
    "        # Prune dependencies that are already covered indirectly, preserving order\n",
    "        pruned_graph[node] = [\n",
    "            dep for dep in direct_dependencies if dep not in all_indirect_dependencies\n",
    "        ]\n",
    "    return pruned_graph\n",
    "\n",
    "# Prune the dependency graph\n",
    "pruned_graph = prune_dependencies(dependency_graph)\n",
    "\n",
    "# Print the pruned graph\n",
    "print(\"Pruned Dependency Graph (Preserving Order):\")\n",
    "for node, dependencies in pruned_graph.items():\n",
    "    print(f\"{node}: {dependencies}\")"
   ]
  },
  {
   "cell_type": "code",
   "execution_count": null,
   "metadata": {},
   "outputs": [],
   "source": []
  },
  {
   "cell_type": "code",
   "execution_count": null,
   "metadata": {},
   "outputs": [],
   "source": []
  },
  {
   "cell_type": "markdown",
   "metadata": {},
   "source": []
  },
  {
   "cell_type": "code",
   "execution_count": null,
   "metadata": {},
   "outputs": [
    {
     "name": "stdout",
     "output_type": "stream",
     "text": [
      "[1, 2, 3, 4]\n",
      "[1, 2, 3, 4]\n"
     ]
    }
   ],
   "source": [
    "# a one-liner to add element to list if it's not already in the list\n",
    "\n",
    "# Test the code\n",
    "my_list = [1, 2, 3]\n",
    "element = 4\n",
    "my_list.append(element) if element not in my_list else None\n",
    "print(my_list)  # Expected output: [1, 2, 3, 4]\n",
    "\n",
    "# Test with an existing element\n",
    "element = 2\n",
    "my_list.append(element) if element not in my_list else None\n",
    "print(my_list)  # Expected output: [1, 2, 3, 4]"
   ]
  },
  {
   "cell_type": "code",
   "execution_count": 9,
   "metadata": {},
   "outputs": [
    {
     "name": "stdout",
     "output_type": "stream",
     "text": [
      "Tag: child, ID: 1, Text: Content 1\n",
      "Tag: child, ID: 2, Text: Content 2\n",
      "Tag: child, ID: 3, Text: Content 3\n"
     ]
    }
   ],
   "source": [
    "from lxml import etree\n",
    "\n",
    "# Example XML content\n",
    "xml_content = \"\"\"\n",
    "<root>\n",
    "    <child id=\"1\">Content 1</child>\n",
    "    <child id=\"2\">Content 2</child>\n",
    "    <child id=\"3\">Content 3</child>\n",
    "</root>\n",
    "\"\"\"\n",
    "\n",
    "# Parse the XML content\n",
    "root = etree.fromstring(xml_content)\n",
    "\n",
    "# Iterate through the elements and print their details\n",
    "for child in root:\n",
    "    print(f\"Tag: {child.tag}, ID: {child.get('id')}, Text: {child.text}\")"
   ]
  },
  {
   "cell_type": "code",
   "execution_count": null,
   "metadata": {},
   "outputs": [],
   "source": []
  },
  {
   "cell_type": "code",
   "execution_count": null,
   "metadata": {},
   "outputs": [
    {
     "name": "stdout",
     "output_type": "stream",
     "text": [
      "Tag: child, Attributes: {'id': '1'}, Text: Content 1\n",
      "Tag: child, Attributes: {'id': '2'}, Text: Content 2\n",
      "Tag: child, Attributes: {'id': '3'}, Text: Content 3\n",
      "Tag: item, Attributes: {'id': '10'}, Text: Test Content 10\n",
      "Tag: item, Attributes: {'id': '20'}, Text: Test Content 20\n",
      "Tag: item, Attributes: {'id': '30'}, Text: Test Content 30\n"
     ]
    }
   ],
   "source": [
    "# Example: Parsing and iterating through an XML content using the ElementTree API\n",
    "# Test case: Parse a new XML content and iterate through its elements\n",
    "test_xml_content = \"\"\"\n",
    "<test>\n",
    "    <item id=\"10\">Test Content 10</item>\n",
    "    <item id=\"20\">Test Content 20</item>\n",
    "    <item id=\"30\">Test Content 30</item>\n",
    "</test>\n",
    "\"\"\"\n",
    "\n",
    "# Parse the test XML content\n",
    "test_root = etree.fromstring(test_xml_content)\n",
    "\n",
    "# Iterate through the elements in the test root and print their details\n",
    "for element in test_root:\n",
    "    print(f\"Tag: {element.tag}, Attributes: {element.attrib}, Text: {element.text}\")"
   ]
  },
  {
   "cell_type": "code",
   "execution_count": 14,
   "metadata": {},
   "outputs": [
    {
     "name": "stdout",
     "output_type": "stream",
     "text": [
      "Circular dependency detected: B -> A -> B\n"
     ]
    }
   ],
   "source": [
    "# Function to prune redundant dependencies while preserving order and check for circular dependencies\n",
    "def prune_dependencies_with_cycle_check(graph):\n",
    "    def dfs(node, visited, path):\n",
    "        if node in path:\n",
    "            raise ValueError(f\"Circular dependency detected: {' -> '.join(path + [node])}\")\n",
    "        if node in visited:\n",
    "            return []\n",
    "        visited.add(node)\n",
    "        path.append(node)\n",
    "        all_dependencies = []\n",
    "        for neighbor in graph[node]:\n",
    "            if neighbor not in all_dependencies:\n",
    "                all_dependencies.append(neighbor)\n",
    "            all_dependencies.extend(dfs(neighbor, visited, path))\n",
    "        path.pop()\n",
    "        return all_dependencies\n",
    "\n",
    "    pruned_graph = {}\n",
    "    for node in graph:\n",
    "        visited = set()\n",
    "        path = []\n",
    "        direct_dependencies = graph[node]\n",
    "        all_indirect_dependencies = []\n",
    "        for neighbor in graph[node]:\n",
    "            all_indirect_dependencies.extend(dfs(neighbor, visited, path))\n",
    "        # Prune dependencies that are already covered indirectly, preserving order\n",
    "        pruned_graph[node] = [\n",
    "            dep for dep in direct_dependencies if dep not in all_indirect_dependencies\n",
    "        ]\n",
    "    return pruned_graph\n",
    "\n",
    "# dependency_graph = {\n",
    "#     'A': ['B'],\n",
    "#     'B': ['C'],\n",
    "#     'C': ['A'],  # Circular dependency: A -> B -> C -> A\n",
    "#     'D': []\n",
    "# }\n",
    "\n",
    "dependency_graph = {\n",
    "    'A': ['B', 'C', 'E', 'F'],\n",
    "    'B': ['D', 'E', \"A\"],\n",
    "    'C': ['E', 'F'],\n",
    "    'D': [],\n",
    "    'E': [],\n",
    "    'F': []\n",
    "}\n",
    "\n",
    "# Test the function with circular dependency detection\n",
    "try:\n",
    "    pruned_graph = prune_dependencies_with_cycle_check(dependency_graph)\n",
    "    print(\"Pruned Dependency Graph (Preserving Order):\")\n",
    "    for node, dependencies in pruned_graph.items():\n",
    "        print(f\"{node}: {dependencies}\")\n",
    "except ValueError as e:\n",
    "    print(e)"
   ]
  },
  {
   "cell_type": "markdown",
   "metadata": {},
   "source": [
    "## Notes about Regular Expressions (Regex)\n",
    "Regular expressions (regex) are powerful tools for matching patterns in text. They are commonly used for searching, extracting, and replacing text in strings.\n"
   ]
  },
  {
   "cell_type": "code",
   "execution_count": null,
   "metadata": {},
   "outputs": [],
   "source": [
    "import re\n",
    "\n",
    "# Example: Find all numbers in a string\n",
    "text = \"The price is 42 dollars and 7 cents.\"\n",
    "numbers = re.findall(r'\\\\d+', text)\n",
    "print(\"Numbers found:\", numbers)  # Output: ['42', '7']\n",
    "\n",
    "# Example: Replace all whitespace with underscores\n",
    "s = \"Hello World! Regex is fun.\"\n",
    "replaced = re.sub(r'\\\\s+', '_', s)\n",
    "print(\"Replaced string:\", replaced)  # Output: 'Hello_World!_Regex_is_fun.'\n",
    "\n",
    "# Example: Check if a string matches a pattern (email)\n",
    "pattern = r'^[\\w.-]+@[\\w.-]+\\\\.\\w+$'\n",
    "email = \"test@example.com\"\n",
    "if re.match(pattern, email):\n",
    "    print(\"Valid email!\")\n",
    "else:\n",
    "    print(\"Invalid email!\")\n"
   ]
  },
  {
   "cell_type": "markdown",
   "metadata": {},
   "source": [
    "### Basic Regex Examples Explained\n",
    "- **Find all numbers in a string:** Uses `\\d+` to match one or more digits anywhere in the text.\n",
    "- **Replace all whitespace with underscores:** Uses `\\s+` to match any whitespace and replaces it with `_`.\n",
    "- **Check if a string matches an email pattern:** Uses a regex pattern to validate if a string is a simple email address.\n"
   ]
  },
  {
   "cell_type": "code",
   "execution_count": 1,
   "metadata": {},
   "outputs": [
    {
     "name": "stdout",
     "output_type": "stream",
     "text": [
      "Numbers after $: ['10', '20']\n",
      "'cat' not preceded by 'black': ['cat', 'cat']\n"
     ]
    }
   ],
   "source": [
    "# Example: Using lookbehind in regex\n",
    "# Find all numbers that are preceded by a dollar sign ($)\n",
    "import re\n",
    "\n",
    "text = \"The prices are $10, $20, and 30 dollars.\"\n",
    "# (?<=\\$) is a positive lookbehind for the dollar sign\n",
    "matches = re.findall(r'(?<=\\$)\\d+', text)\n",
    "print(\"Numbers after $:\", matches)  # Output: ['10', '20']\n",
    "\n",
    "# Example: Negative lookbehind - find all 'cat' not preceded by 'black '\n",
    "text2 = \"black cat, white cat, cat\"\n",
    "# (?<!black ) is a negative lookbehind for 'black '\n",
    "matches2 = re.findall(r'(?<!black )cat', text2)\n",
    "print(\"'cat' not preceded by 'black':\", matches2)  # Output: ['cat', 'cat']\n"
   ]
  },
  {
   "cell_type": "markdown",
   "metadata": {},
   "source": [
    "### Regex Lookbehind Examples Explained\n",
    "- **Positive lookbehind:** `(?<=\\$)\\d+` finds numbers that are immediately preceded by a dollar sign.\n",
    "- **Negative lookbehind:** `(?<!black )cat` finds occurrences of 'cat' that are not immediately preceded by 'black '.\n"
   ]
  },
  {
   "cell_type": "markdown",
   "metadata": {},
   "source": [
    "### C++ Type Reference Regex Example\n",
    "Suppose you want to match `test_type& a` (where `test_type` is a struct and `a` is an object), but not `const test_type&a`. You can use a negative lookbehind to ensure `const` does not appear before the type.\n",
    "\n",
    "**Pattern:**\n",
    "```regex\n",
    "(?<!const\\s)test_type&\\s+a\n",
    "```\n",
    "- `(?<!const\\s)` ensures `const ` does not appear before `test_type`.\n",
    "- `test_type&` matches the type and reference.\n",
    "- `\\s+a` matches one or more spaces followed by `a`.\n"
   ]
  },
  {
   "cell_type": "code",
   "execution_count": null,
   "metadata": {},
   "outputs": [
    {
     "name": "stdout",
     "output_type": "stream",
     "text": [
      "Function calls with 'test_type& a' (excluding meta_in/key_build): ['foo(test_type& a);']\n"
     ]
    }
   ],
   "source": [
    "import re\n",
    "\n",
    "cpp_code = '''\n",
    "test_type& a;\n",
    "const test_type& a;\n",
    "test_type& b;\n",
    "const test_type&b;\n",
    "foo(test_type& a);\n",
    "meta_in(test_type& a);\n",
    "key_build(test_type& a);\n",
    "bar(const test_type& a);\n",
    "'''\n",
    "\n",
    "# Updated pattern: match function calls with 'test_type& a' as parameter, but exclude 'meta_in' and 'key_build'\n",
    "pattern = r'(?<!const\\s)test_type&\\s+a\\s*\\)\\s*;(?=\\n)|(?<!const\\s)test_type&\\s+a(?=\\s*\\)\\s*;)(?<!meta_in\\s*\\(|key_build\\s*\\()'\n",
    "\n",
    "# For demonstration, let's use a more robust approach with re.findall and re.finditer\n",
    "# We'll match function calls and filter out those with excluded names\n",
    "function_pattern = r'([a-zA-Z_][a-zA-Z0-9_]*)\\s*\\(\\s*(?<!const\\s)test_type&\\s+a\\s*\\)\\s*'\n",
    "\n",
    "matches = [m.group(0) for m in re.finditer(function_pattern, cpp_code) if m.group(1) not in (\"meta_in\", \"key_build\")]\n",
    "print(\"Function calls with 'test_type& a' (excluding meta_in/key_build):\", matches)  # Output: ['foo(test_type& a);']"
   ]
  },
  {
   "cell_type": "markdown",
   "metadata": {},
   "source": [
    "### .NET Equivalent Regex Example for C++ Function Call Matching\n",
    "This example demonstrates how to match function calls with `test_type& a` as a parameter, but exclude functions named `meta_in` or `key_build` using .NET regular expressions.\n",
    "\n",
    "**Pattern:**\n",
    "```\n",
    "\\b(?!meta_in\\b|key_build\\b)([a-zA-Z_][a-zA-Z0-9_]*)\\s*\\(\\s*(?<!const\\s)test_type&\\s+a\\s*\\)\\s*;\n",
    "```\n",
    "- `\\b(?!meta_in\\b|key_build\\b)` ensures the function name is not `meta_in` or `key_build`.\n",
    "- `([a-zA-Z_][a-zA-Z0-9_]*)` matches the function name.\n",
    "- `\\s*\\(\\s*` matches the opening parenthesis.\n",
    "- `(?<!const\\s)test_type&\\s+a` matches the parameter, ensuring it is not preceded by `const`.\n",
    "- `\\s*\\)\\s*;` matches the closing parenthesis and semicolon.\n",
    "\n",
    "**Example usage in C#:**\n",
    "```csharp\n",
    "var pattern = @\"\\b(?!meta_in\\b|key_build\\b)([a-zA-Z_][a-zA-Z0-9_]*)\\s*\\(\\s*(?<!const\\s)test_type&\\s+a\\s*\\)\\s*;\";\n",
    "var matches = Regex.Matches(cpp_code, pattern);\n",
    "foreach (Match match in matches)\n",
    "{\n",
    "    Console.WriteLine(match.Value);\n",
    "}\n",
    "```\n",
    "This will match `foo(test_type& a);` but not `meta_in(test_type& a);` or `key_build(test_type& a);`."
   ]
  }
 ],
 "metadata": {
  "kernelspec": {
   "display_name": "Python 3",
   "language": "python",
   "name": "python3"
  },
  "language_info": {
   "codemirror_mode": {
    "name": "ipython",
    "version": 3
   },
   "file_extension": ".py",
   "mimetype": "text/x-python",
   "name": "python",
   "nbconvert_exporter": "python",
   "pygments_lexer": "ipython3",
   "version": "3.10.12"
  }
 },
 "nbformat": 4,
 "nbformat_minor": 2
}
