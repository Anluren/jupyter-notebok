{
 "cells": [
  {
   "cell_type": "code",
   "execution_count": null,
   "metadata": {},
   "outputs": [],
   "source": [
    "a = 0"
   ]
  },
  {
   "cell_type": "code",
   "execution_count": 1,
   "metadata": {},
   "outputs": [
    {
     "name": "stdout",
     "output_type": "stream",
     "text": [
      "A B D E F C "
     ]
    }
   ],
   "source": [
    "# Example of Depth-First Search (DFS) using a graph represented as an adjacency list\n",
    "\n",
    "# Define the graph as an adjacency list\n",
    "graph = {\n",
    "    'A': ['B', 'C'],\n",
    "    'B': ['D', 'E'],\n",
    "    'C': ['F'],\n",
    "    'D': [],\n",
    "    'E': ['F'],\n",
    "    'F': []\n",
    "}\n",
    "\n",
    "# DFS function\n",
    "def dfs(graph, start, visited=None):\n",
    "    if visited is None:\n",
    "        visited = set()\n",
    "    visited.add(start)\n",
    "    print(start, end=' ')  # Print the node as we visit it\n",
    "\n",
    "    for neighbor in graph[start]:\n",
    "        if neighbor not in visited:\n",
    "            dfs(graph, neighbor, visited)\n",
    "\n",
    "# Call the DFS function\n",
    "dfs(graph, 'A')"
   ]
  },
  {
   "cell_type": "markdown",
   "metadata": {},
   "source": [
    "## with dependence graph\n",
    "I have a project which is as follow:\n",
    "1. every node have direct dependence node\n",
    "2. if a dependent node A is already present in another dependent node B, prune the dependent A\n",
    "\n",
    "The goal is to get minimum number of deirect dependent node\n",
    "\n"
   ]
  },
  {
   "cell_type": "code",
   "execution_count": 5,
   "metadata": {},
   "outputs": [
    {
     "name": "stdout",
     "output_type": "stream",
     "text": [
      "Pruned Dependency Graph:\n",
      "A: ['B', 'C']\n",
      "B: ['D', 'E']\n",
      "C: ['F', 'E']\n",
      "D: []\n",
      "E: []\n",
      "F: []\n"
     ]
    }
   ],
   "source": [
    "# Example: Pruning redundant dependencies in a dependency graph\n",
    "\n",
    "# Define the dependency graph\n",
    "dependency_graph = {\n",
    "    'A': ['B', 'C', 'E', 'F'],\n",
    "    'B': ['D', 'E'],\n",
    "    'C': ['E', 'F'],\n",
    "    'D': [],\n",
    "    'E': [],\n",
    "    'F': []\n",
    "}\n",
    "\n",
    "# Function to prune redundant dependencies\n",
    "def prune_dependencies(graph):\n",
    "    def dfs(node, visited):\n",
    "        if node in visited:\n",
    "            return set()\n",
    "        visited.add(node)\n",
    "        all_dependencies = set()\n",
    "        for neighbor in graph[node]:\n",
    "            all_dependencies.add(neighbor)\n",
    "            all_dependencies.update(dfs(neighbor, visited))\n",
    "        return all_dependencies\n",
    "\n",
    "    pruned_graph = {}\n",
    "    for node in graph:\n",
    "        visited = set()\n",
    "        direct_dependencies = set(graph[node])\n",
    "        all_indirect_dependencies = set()\n",
    "        for neighbor in graph[node]:\n",
    "            all_indirect_dependencies.update(dfs(neighbor, visited))\n",
    "        # Prune dependencies that are already covered indirectly\n",
    "        pruned_graph[node] = list(direct_dependencies - all_indirect_dependencies)\n",
    "    return pruned_graph\n",
    "\n",
    "# Prune the dependency graph\n",
    "pruned_graph = prune_dependencies(dependency_graph)\n",
    "\n",
    "# Print the pruned graph\n",
    "print(\"Pruned Dependency Graph:\")\n",
    "for node, dependencies in pruned_graph.items():\n",
    "    print(f\"{node}: {dependencies}\")"
   ]
  },
  {
   "cell_type": "code",
   "execution_count": null,
   "metadata": {
    "tags": [
     "graph_prune"
    ]
   },
   "outputs": [],
   "source": [
    "# Example: Pruning redundant dependencies in a dependency graph (preserving order)\n",
    "\n",
    "# Define the dependency graph\n",
    "dependency_graph = {\n",
    "    'A': ['B', 'C', 'E', 'F'],\n",
    "    'B': ['D', 'E'],\n",
    "    'C': ['E', 'F'],\n",
    "    'D': [],\n",
    "    'E': [],\n",
    "    'F': []\n",
    "}\n",
    "\n",
    "# Function to prune redundant dependencies while preserving order\n",
    "def prune_dependencies(graph):\n",
    "    def dfs(node, visited):\n",
    "        if node in visited:\n",
    "            return []\n",
    "        visited.add(node)\n",
    "        all_dependencies = []\n",
    "        for neighbor in graph[node]:\n",
    "            if neighbor not in all_dependencies:\n",
    "                all_dependencies.append(neighbor)\n",
    "            all_dependencies.extend(dfs(neighbor, visited))\n",
    "        return all_dependencies\n",
    "\n",
    "    pruned_graph = {}\n",
    "    for node in graph:\n",
    "        visited = set()\n",
    "        direct_dependencies = graph[node]\n",
    "        all_indirect_dependencies = []\n",
    "        for neighbor in graph[node]:\n",
    "            all_indirect_dependencies.extend(dfs(neighbor, visited))\n",
    "        # Prune dependencies that are already covered indirectly, preserving order\n",
    "        pruned_graph[node] = [\n",
    "            dep for dep in direct_dependencies if dep not in all_indirect_dependencies\n",
    "        ]\n",
    "    return pruned_graph\n",
    "\n",
    "# Prune the dependency graph\n",
    "pruned_graph = prune_dependencies(dependency_graph)\n",
    "\n",
    "# Print the pruned graph\n",
    "print(\"Pruned Dependency Graph (Preserving Order):\")\n",
    "for node, dependencies in pruned_graph.items():\n",
    "    print(f\"{node}: {dependencies}\")"
   ]
  },
  {
   "cell_type": "code",
   "execution_count": null,
   "metadata": {},
   "outputs": [],
   "source": []
  },
  {
   "cell_type": "code",
   "execution_count": null,
   "metadata": {},
   "outputs": [],
   "source": []
  },
  {
   "cell_type": "markdown",
   "metadata": {},
   "source": []
  },
  {
   "cell_type": "code",
   "execution_count": null,
   "metadata": {},
   "outputs": [
    {
     "name": "stdout",
     "output_type": "stream",
     "text": [
      "[1, 2, 3, 4]\n",
      "[1, 2, 3, 4]\n"
     ]
    }
   ],
   "source": [
    "# a one-liner to add element to list if it's not already in the list\n",
    "\n",
    "# Test the code\n",
    "my_list = [1, 2, 3]\n",
    "element = 4\n",
    "my_list.append(element) if element not in my_list else None\n",
    "print(my_list)  # Expected output: [1, 2, 3, 4]\n",
    "\n",
    "# Test with an existing element\n",
    "element = 2\n",
    "my_list.append(element) if element not in my_list else None\n",
    "print(my_list)  # Expected output: [1, 2, 3, 4]"
   ]
  },
  {
   "cell_type": "code",
   "execution_count": 9,
   "metadata": {},
   "outputs": [
    {
     "name": "stdout",
     "output_type": "stream",
     "text": [
      "Tag: child, ID: 1, Text: Content 1\n",
      "Tag: child, ID: 2, Text: Content 2\n",
      "Tag: child, ID: 3, Text: Content 3\n"
     ]
    }
   ],
   "source": [
    "from lxml import etree\n",
    "\n",
    "# Example XML content\n",
    "xml_content = \"\"\"\n",
    "<root>\n",
    "    <child id=\"1\">Content 1</child>\n",
    "    <child id=\"2\">Content 2</child>\n",
    "    <child id=\"3\">Content 3</child>\n",
    "</root>\n",
    "\"\"\"\n",
    "\n",
    "# Parse the XML content\n",
    "root = etree.fromstring(xml_content)\n",
    "\n",
    "# Iterate through the elements and print their details\n",
    "for child in root:\n",
    "    print(f\"Tag: {child.tag}, ID: {child.get('id')}, Text: {child.text}\")"
   ]
  },
  {
   "cell_type": "code",
   "execution_count": null,
   "metadata": {},
   "outputs": [],
   "source": []
  },
  {
   "cell_type": "code",
   "execution_count": null,
   "metadata": {},
   "outputs": [
    {
     "name": "stdout",
     "output_type": "stream",
     "text": [
      "Tag: child, Attributes: {'id': '1'}, Text: Content 1\n",
      "Tag: child, Attributes: {'id': '2'}, Text: Content 2\n",
      "Tag: child, Attributes: {'id': '3'}, Text: Content 3\n",
      "Tag: item, Attributes: {'id': '10'}, Text: Test Content 10\n",
      "Tag: item, Attributes: {'id': '20'}, Text: Test Content 20\n",
      "Tag: item, Attributes: {'id': '30'}, Text: Test Content 30\n"
     ]
    }
   ],
   "source": [
    "# Example: Parsing and iterating through an XML content using the ElementTree API\n",
    "# Test case: Parse a new XML content and iterate through its elements\n",
    "test_xml_content = \"\"\"\n",
    "<test>\n",
    "    <item id=\"10\">Test Content 10</item>\n",
    "    <item id=\"20\">Test Content 20</item>\n",
    "    <item id=\"30\">Test Content 30</item>\n",
    "</test>\n",
    "\"\"\"\n",
    "\n",
    "# Parse the test XML content\n",
    "test_root = etree.fromstring(test_xml_content)\n",
    "\n",
    "# Iterate through the elements in the test root and print their details\n",
    "for element in test_root:\n",
    "    print(f\"Tag: {element.tag}, Attributes: {element.attrib}, Text: {element.text}\")"
   ]
  },
  {
   "cell_type": "code",
   "execution_count": 14,
   "metadata": {},
   "outputs": [
    {
     "name": "stdout",
     "output_type": "stream",
     "text": [
      "Circular dependency detected: B -> A -> B\n"
     ]
    }
   ],
   "source": [
    "# Function to prune redundant dependencies while preserving order and check for circular dependencies\n",
    "def prune_dependencies_with_cycle_check(graph):\n",
    "    def dfs(node, visited, path):\n",
    "        if node in path:\n",
    "            raise ValueError(f\"Circular dependency detected: {' -> '.join(path + [node])}\")\n",
    "        if node in visited:\n",
    "            return []\n",
    "        visited.add(node)\n",
    "        path.append(node)\n",
    "        all_dependencies = []\n",
    "        for neighbor in graph[node]:\n",
    "            if neighbor not in all_dependencies:\n",
    "                all_dependencies.append(neighbor)\n",
    "            all_dependencies.extend(dfs(neighbor, visited, path))\n",
    "        path.pop()\n",
    "        return all_dependencies\n",
    "\n",
    "    pruned_graph = {}\n",
    "    for node in graph:\n",
    "        visited = set()\n",
    "        path = []\n",
    "        direct_dependencies = graph[node]\n",
    "        all_indirect_dependencies = []\n",
    "        for neighbor in graph[node]:\n",
    "            all_indirect_dependencies.extend(dfs(neighbor, visited, path))\n",
    "        # Prune dependencies that are already covered indirectly, preserving order\n",
    "        pruned_graph[node] = [\n",
    "            dep for dep in direct_dependencies if dep not in all_indirect_dependencies\n",
    "        ]\n",
    "    return pruned_graph\n",
    "\n",
    "# dependency_graph = {\n",
    "#     'A': ['B'],\n",
    "#     'B': ['C'],\n",
    "#     'C': ['A'],  # Circular dependency: A -> B -> C -> A\n",
    "#     'D': []\n",
    "# }\n",
    "\n",
    "dependency_graph = {\n",
    "    'A': ['B', 'C', 'E', 'F'],\n",
    "    'B': ['D', 'E', \"A\"],\n",
    "    'C': ['E', 'F'],\n",
    "    'D': [],\n",
    "    'E': [],\n",
    "    'F': []\n",
    "}\n",
    "\n",
    "# Test the function with circular dependency detection\n",
    "try:\n",
    "    pruned_graph = prune_dependencies_with_cycle_check(dependency_graph)\n",
    "    print(\"Pruned Dependency Graph (Preserving Order):\")\n",
    "    for node, dependencies in pruned_graph.items():\n",
    "        print(f\"{node}: {dependencies}\")\n",
    "except ValueError as e:\n",
    "    print(e)"
   ]
  }
 ],
 "metadata": {
  "kernelspec": {
   "display_name": "Python 3",
   "language": "python",
   "name": "python3"
  },
  "language_info": {
   "codemirror_mode": {
    "name": "ipython",
    "version": 3
   },
   "file_extension": ".py",
   "mimetype": "text/x-python",
   "name": "python",
   "nbconvert_exporter": "python",
   "pygments_lexer": "ipython3",
   "version": "3.10.12"
  }
 },
 "nbformat": 4,
 "nbformat_minor": 2
}
