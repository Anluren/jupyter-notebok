{
 "cells": [
  {
   "cell_type": "code",
   "execution_count": null,
   "id": "6659f074",
   "metadata": {
    "vscode": {
     "languageId": "c"
    }
   },
   "outputs": [],
   "source": [
    "#include <stdint.h>\n",
    "#include <string.h>\n",
    "\n",
    "uint16_t calculate_ip_checksum(const uint8_t* header, size_t length) {\n",
    "    uint32_t sum = 0;\n",
    "    const uint16_t* ptr = (const uint16_t*)header;\n",
    "    \n",
    "    // Sum all 16-bit words\n",
    "    while (length > 1) {\n",
    "        sum += *ptr++;\n",
    "        length -= 2;\n",
    "    }\n",
    "    \n",
    "    // Handle odd byte\n",
    "    if (length > 0) {\n",
    "        sum += *(uint8_t*)ptr << 8;\n",
    "    }\n",
    "    \n",
    "    // Add carry bits\n",
    "    while (sum >> 16) {\n",
    "        sum = (sum & 0xFFFF) + (sum >> 16);\n",
    "    }\n",
    "    \n",
    "    return ~sum & 0xFFFF;\n",
    "}\n",
    "\n",
    "// Alternative with manual byte handling for better portability\n",
    "uint16_t calculate_ip_checksum_portable(const uint8_t* header, size_t length) {\n",
    "    uint32_t sum = 0;\n",
    "    \n",
    "    // Sum 16-bit words\n",
    "    for (size_t i = 0; i < length - 1; i += 2) {\n",
    "        sum += (header[i] << 8) + header[i + 1];\n",
    "    }\n",
    "    \n",
    "    // Handle odd byte\n",
    "    if (length % 2) {\n",
    "        sum += header[length - 1] << 8;\n",
    "    }\n",
    "    \n",
    "    // Fold carry bits\n",
    "    while (sum >> 16) {\n",
    "        sum = (sum & 0xFFFF) + (sum >> 16);\n",
    "    }\n",
    "    \n",
    "    return ~sum & 0xFFFF;\n",
    "}"
   ]
  },
  {
   "cell_type": "markdown",
   "id": "4dd97bff",
   "metadata": {},
   "source": [
    "with above code, it assmes the checksum field is already reset to 0"
   ]
  }
 ],
 "metadata": {
  "language_info": {
   "name": "python"
  }
 },
 "nbformat": 4,
 "nbformat_minor": 5
}
