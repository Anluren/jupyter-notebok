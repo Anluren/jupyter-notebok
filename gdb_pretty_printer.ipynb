{
 "cells": [
  {
   "cell_type": "code",
   "execution_count": null,
   "id": "b53edb60",
   "metadata": {},
   "outputs": [],
   "source": [
    "def read_uint64_pointer(val, count):\n",
    "    # val: gdb.Value pointing to uint64_t *\n",
    "    # count: number of elements to read\n",
    "    result = []\n",
    "    for i in range(count):\n",
    "        # Dereference and read each element\n",
    "        elem = (val + i).dereference()\n",
    "        result.append(int(elem))\n",
    "    return result"
   ]
  },
  {
   "cell_type": "code",
   "execution_count": 2,
   "id": "e5e61ede",
   "metadata": {},
   "outputs": [],
   "source": [
    "def read_bits(words, bit_offset, num_bits):\n",
    "    # words: list of 64-bit integers\n",
    "    # bit_offset: starting bit position (0 = MSB of words[0])\n",
    "    # num_bits: number of bits to read\n",
    "    result = 0\n",
    "    for i in range(num_bits):\n",
    "        pos = bit_offset + i\n",
    "        word_idx = pos // 64\n",
    "        bit_idx = pos % 64\n",
    "        # MSB is bit 0, so shift by (63 - bit_idx)\n",
    "        bit = (words[word_idx] >> (63 - bit_idx)) & 1\n",
    "        result = (result << 1) | bit\n",
    "    return result"
   ]
  },
  {
   "cell_type": "code",
   "execution_count": 3,
   "id": "8790fc9f",
   "metadata": {},
   "outputs": [
    {
     "name": "stdout",
     "output_type": "stream",
     "text": [
      "Bits from offset 60 (next 8 bits): 0b1 (1)\n",
      "Bits from offset 62 (next 6 bits): 0b1 (1)\n"
     ]
    }
   ],
   "source": [
    "# Test read_bits function\n",
    "words = [0xF0F0F0F0F0F0F0F0, 0x123456789ABCDEF0]\n",
    "bit_offset = 60\n",
    "num_bits = 8\n",
    "result = read_bits(words, bit_offset, num_bits)\n",
    "print(f\"Bits from offset {bit_offset} (next {num_bits} bits): {bin(result)} ({result})\")\n",
    "\n",
    "# Test reading across word boundary\n",
    "bit_offset2 = 62\n",
    "num_bits2 = 6\n",
    "result2 = read_bits(words, bit_offset2, num_bits2)\n",
    "print(f\"Bits from offset {bit_offset2} (next {num_bits2} bits): {bin(result2)} ({result2})\")"
   ]
  },
  {
   "cell_type": "code",
   "execution_count": 5,
   "id": "d442251c",
   "metadata": {},
   "outputs": [
    {
     "name": "stdout",
     "output_type": "stream",
     "text": [
      "Bits from offset 56 (next 12 bits): 0b111100000001 (3841), hex: 0xf01\n"
     ]
    }
   ],
   "source": [
    "# Read 12 bits from offset 56\n",
    "bit_offset3 = 56\n",
    "num_bits3 = 12\n",
    "result3 = read_bits(words, bit_offset3, num_bits3)\n",
    "print(f\"Bits from offset {bit_offset3} (next {num_bits3} bits): {bin(result3)} ({result3}), hex: {hex(result3)}\")"
   ]
  }
 ],
 "metadata": {
  "kernelspec": {
   "display_name": "Python 3",
   "language": "python",
   "name": "python3"
  },
  "language_info": {
   "codemirror_mode": {
    "name": "ipython",
    "version": 3
   },
   "file_extension": ".py",
   "mimetype": "text/x-python",
   "name": "python",
   "nbconvert_exporter": "python",
   "pygments_lexer": "ipython3",
   "version": "3.10.12"
  }
 },
 "nbformat": 4,
 "nbformat_minor": 5
}
