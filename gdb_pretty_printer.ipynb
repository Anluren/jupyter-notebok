{
 "cells": [
  {
   "cell_type": "code",
   "execution_count": null,
   "id": "b53edb60",
   "metadata": {},
   "outputs": [],
   "source": [
    "def read_uint64_pointer(val, count):\n",
    "    # val: gdb.Value pointing to uint64_t *\n",
    "    # count: number of elements to read\n",
    "    inf = gdb.selected_inferior()\n",
    "    address = int(val)\n",
    "    length = count * 8  # 8 bytes per uint64_t\n",
    "    mem = inf.read_memory(address, length)\n",
    "    # Convert bytes to list of uint64_t (big-endian)\n",
    "    result = [int.from_bytes(mem[i*8:(i+1)*8], 'big') for i in range(count)]\n",
    "    return result"
   ]
  },
  {
   "cell_type": "code",
   "execution_count": 2,
   "id": "e5e61ede",
   "metadata": {},
   "outputs": [],
   "source": [
    "def read_bits(words, bit_offset, num_bits):\n",
    "    # words: list of 64-bit integers\n",
    "    # bit_offset: starting bit position (0 = MSB of words[0])\n",
    "    # num_bits: number of bits to read\n",
    "    result = 0\n",
    "    for i in range(num_bits):\n",
    "        pos = bit_offset + i\n",
    "        word_idx = pos // 64\n",
    "        bit_idx = pos % 64\n",
    "        # MSB is bit 0, so shift by (63 - bit_idx)\n",
    "        bit = (words[word_idx] >> (63 - bit_idx)) & 1\n",
    "        result = (result << 1) | bit\n",
    "    return result"
   ]
  },
  {
   "cell_type": "code",
   "execution_count": 3,
   "id": "8790fc9f",
   "metadata": {},
   "outputs": [
    {
     "name": "stdout",
     "output_type": "stream",
     "text": [
      "Bits from offset 60 (next 8 bits): 0b1 (1)\n",
      "Bits from offset 62 (next 6 bits): 0b1 (1)\n"
     ]
    }
   ],
   "source": [
    "# Test read_bits function\n",
    "words = [0xF0F0F0F0F0F0F0F0, 0x123456789ABCDEF0]\n",
    "bit_offset = 60\n",
    "num_bits = 8\n",
    "result = read_bits(words, bit_offset, num_bits)\n",
    "print(f\"Bits from offset {bit_offset} (next {num_bits} bits): {bin(result)} ({result})\")\n",
    "\n",
    "# Test reading across word boundary\n",
    "bit_offset2 = 62\n",
    "num_bits2 = 6\n",
    "result2 = read_bits(words, bit_offset2, num_bits2)\n",
    "print(f\"Bits from offset {bit_offset2} (next {num_bits2} bits): {bin(result2)} ({result2})\")"
   ]
  },
  {
   "cell_type": "code",
   "execution_count": 5,
   "id": "d442251c",
   "metadata": {},
   "outputs": [
    {
     "name": "stdout",
     "output_type": "stream",
     "text": [
      "Bits from offset 56 (next 12 bits): 0b111100000001 (3841), hex: 0xf01\n"
     ]
    }
   ],
   "source": [
    "# Read 12 bits from offset 56\n",
    "bit_offset3 = 56\n",
    "num_bits3 = 12\n",
    "result3 = read_bits(words, bit_offset3, num_bits3)\n",
    "print(f\"Bits from offset {bit_offset3} (next {num_bits3} bits): {bin(result3)} ({result3}), hex: {hex(result3)}\")"
   ]
  },
  {
   "cell_type": "markdown",
   "id": "4a8dac6f",
   "metadata": {},
   "source": [
    "## How to call a member function of a C++ object with gdb.Value in GDB Python\n",
    "To call a member function of an object using a `gdb.Value`, use the `gdb.parse_and_eval` function with the appropriate C++ expression as a string.\n",
    "\n",
    "**Example:**\n",
    "```python\n",
    "# If obj is a gdb.Value representing an object (not a pointer):\n",
    "result = gdb.parse_and_eval(f'({obj.type.pointer()}){int(obj.address)}->foo()')\n",
    "\n",
    "# If obj is a pointer already:\n",
    "result = gdb.parse_and_eval(f'{obj}.foo()')\n",
    "\n",
    "# Or using the object's name if available:\n",
    "result = gdb.parse_and_eval('obj.foo()')\n",
    "```\n",
    "This will evaluate the member function and return a new `gdb.Value` with the result."
   ]
  },
  {
   "cell_type": "markdown",
   "id": "09ae104f",
   "metadata": {},
   "source": [
    "## Accessing static constexpr members of a class in GDB Python\n",
    "To access a `static constexpr` member of a class, use `gdb.parse_and_eval` with the fully qualified name:\n",
    "```python\n",
    "value = gdb.parse_and_eval('ClassName::constexpr_member')\n",
    "```\n",
    "Replace `ClassName` and `constexpr_member` with your actual class and member names.\n",
    "This works for both `static constexpr` and `static const` members, as long as they are accessible in the debug info. No object instance is needed."
   ]
  },
  {
   "cell_type": "markdown",
   "id": "a2e5bb9e",
   "metadata": {},
   "source": [
    "\n"
   ]
  },
  {
   "cell_type": "code",
   "execution_count": null,
   "id": "520e80e4",
   "metadata": {},
   "outputs": [],
   "source": [
    "import traceback\n",
    "\n",
    "try:\n",
    "    # ... your code ...\n",
    "except Exception as e:\n",
    "    tb = traceback.extract_tb(e.__traceback__)\n",
    "    last_entry = tb[-1]\n",
    "    print(f\"Exception at {last_entry.filename}, line {last_entry.lineno}: {last_entry.line}\")"
   ]
  }
 ],
 "metadata": {
  "kernelspec": {
   "display_name": "Python 3",
   "language": "python",
   "name": "python3"
  },
  "language_info": {
   "codemirror_mode": {
    "name": "ipython",
    "version": 3
   },
   "file_extension": ".py",
   "mimetype": "text/x-python",
   "name": "python",
   "nbconvert_exporter": "python",
   "pygments_lexer": "ipython3",
   "version": "3.10.12"
  }
 },
 "nbformat": 4,
 "nbformat_minor": 5
}
