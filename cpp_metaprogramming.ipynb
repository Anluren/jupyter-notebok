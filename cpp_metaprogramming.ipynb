{
 "cells": [
  {
   "cell_type": "markdown",
   "id": "9c707037",
   "metadata": {},
   "source": [
    "# C++ Metaprogramming Snippets\n",
    "This notebook demonstrates C++ metaprogramming techniques and useful code snippets using the xeus-cling kernel."
   ]
  },
  {
   "cell_type": "markdown",
   "id": "036c0fb2",
   "metadata": {},
   "source": [
    "**Note:** To run C++ code in this notebook, select the xeus-cling C++ kernel (e.g., C++17) from the kernel menu."
   ]
  },
  {
   "cell_type": "markdown",
   "id": "0cd28369",
   "metadata": {},
   "source": [
    "## Compile-time Constants with `constexpr`\n",
    "Use `constexpr` to define constants and functions evaluated at compile time."
   ]
  },
  {
   "cell_type": "code",
   "execution_count": null,
   "id": "56140e09",
   "metadata": {
    "vscode": {
     "languageId": "cpp"
    }
   },
   "outputs": [],
   "source": [
    "// Compile-time factorial using constexpr\n",
    "#include <iostream>\n",
    "constexpr int factorial(int n) {\n",
    "    return n <= 1 ? 1 : (n * factorial(n - 1));\n",
    "}\n",
    "\n",
    "int main() {\n",
    "    constexpr int val = factorial(5);\n",
    "    std::cout << \"Factorial of 5 at compile time: \" << val << std::endl;\n",
    "    return 0;\n",
    "}"
   ]
  },
  {
   "cell_type": "markdown",
   "id": "1ba8a913",
   "metadata": {},
   "source": [
    "## Template Metaprogramming\n",
    "Use templates to compute values at compile time and enable generic programming."
   ]
  },
  {
   "cell_type": "code",
   "execution_count": null,
   "id": "4542bff9",
   "metadata": {
    "vscode": {
     "languageId": "cpp"
    }
   },
   "outputs": [],
   "source": [
    "// Template metaprogramming: factorial\n",
    "#include <iostream>\n",
    "\n",
    "template <int N>\n",
    "struct Factorial {\n",
    "    static constexpr int value = N * Factorial<N - 1>::value;\n",
    "};\n",
    "\n",
    "template <>\n",
    "struct Factorial<0> {\n",
    "    static constexpr int value = 1;\n",
    "};\n",
    "\n",
    "int main() {\n",
    "    std::cout << \"Factorial<5>::value = \" << Factorial<5>::value << std::endl;\n",
    "    return 0;\n",
    "}"
   ]
  },
  {
   "cell_type": "markdown",
   "id": "0879fa98",
   "metadata": {},
   "source": [
    "## SFINAE and Type Traits\n",
    "Use SFINAE (Substitution Failure Is Not An Error) and type traits to enable or disable functions based on type properties."
   ]
  },
  {
   "cell_type": "code",
   "execution_count": null,
   "id": "39295d9e",
   "metadata": {
    "vscode": {
     "languageId": "cpp"
    }
   },
   "outputs": [],
   "source": [
    "// SFINAE and type traits example\n",
    "#include <iostream>\n",
    "#include <type_traits>\n",
    "\n",
    "template <typename T>\n",
    "typename std::enable_if<std::is_integral<T>::value, void>::type\n",
    "print_type(T value) {\n",
    "    std::cout << value << \" is integral\" << std::endl;\n",
    "}\n",
    "\n",
    "template <typename T>\n",
    "typename std::enable_if<!std::is_integral<T>::value, void>::type\n",
    "print_type(T value) {\n",
    "    std::cout << value << \" is NOT integral\" << std::endl;\n",
    "}\n",
    "\n",
    "int main() {\n",
    "    print_type(42);      // integral\n",
    "    print_type(3.14);    // not integral\n",
    "    return 0;\n",
    "}"
   ]
  },
  {
   "cell_type": "markdown",
   "id": "976c3483",
   "metadata": {},
   "source": [
    "## Variadic Templates and Fold Expressions\n",
    "Use variadic templates and fold expressions to write functions that accept any number of arguments."
   ]
  },
  {
   "cell_type": "code",
   "execution_count": null,
   "id": "83ae14ac",
   "metadata": {
    "vscode": {
     "languageId": "cpp"
    }
   },
   "outputs": [],
   "source": [
    "// Variadic templates and fold expressions: sum of arguments\n",
    "#include <iostream>\n",
    "\n",
    "template <typename... Args>\n",
    "auto sum(Args... args) {\n",
    "    return (args + ...);\n",
    "}\n",
    "\n",
    "int main() {\n",
    "    std::cout << \"sum(1, 2, 3, 4) = \" << sum(1, 2, 3, 4) << std::endl;\n",
    "    std::cout << \"sum(10, 20) = \" << sum(10, 20) << std::endl;\n",
    "    return 0;\n",
    "}"
   ]
  },
  {
   "cell_type": "code",
   "execution_count": null,
   "id": "b46be203",
   "metadata": {
    "vscode": {
     "languageId": "cpp"
    }
   },
   "outputs": [],
   "source": [
    "// Compile-time index of string in a list using constexpr and template recursion\n",
    "#include <array>\n",
    "#include <string_view>\n",
    "#include <cstddef>\n",
    "\n",
    "// Helper to compare string_views at compile time\n",
    "constexpr bool sv_equal(std::string_view a, std::string_view b) {\n",
    "    return a == b;\n",
    "}\n",
    "\n",
    "// Recursive constexpr function to find index\n",
    "template <std::size_t N>\n",
    "constexpr std::size_t index_of(std::string_view value, const std::array<std::string_view, N>& arr, std::size_t idx = 0) {\n",
    "    return idx == N ? N : (sv_equal(arr[idx], value) ? idx : index_of(value, arr, idx + 1));\n",
    "}\n",
    "\n",
    "// Usage example\n",
    "constexpr std::array<std::string_view, 4> fruits = {\"apple\", \"banana\", \"cherry\", \"date\"};\n",
    "constexpr std::size_t idx = index_of(\"cherry\", fruits);\n",
    "\n",
    "static_assert(idx == 2, \"Index of 'cherry' should be 2\");\n",
    "\n",
    "#include <iostream>\n",
    "int main() {\n",
    "    std::cout << \"Index of 'cherry' is: \" << idx << std::endl;\n",
    "    return 0;\n",
    "}"
   ]
  },
  {
   "cell_type": "code",
   "execution_count": null,
   "id": "e5e95ff6",
   "metadata": {
    "vscode": {
     "languageId": "cpp"
    }
   },
   "outputs": [],
   "source": [
    "is there a way to split a string at compile time in C++? the string is delimited by a '.'\n",
    "\n",
    "Yes, you can split a string at compile time in C++ using template metaprogramming and constexpr functions. Below is an example of how to achieve this by defining a constexpr function that splits a string based on a delimiter (in this case, a dot '.').\n",
    "```cpp\n",
    "#include <array>\n",
    "#include <string_view>     \n",
    "\n",
    "constexpr std::size_t count_delimiters(std::string_view str, char delimiter) {\n",
    "    std::size_t count = 0;\n",
    "    for (char c : str) {\n",
    "        if (c == delimiter) {\n",
    "            ++count;\n",
    "        }\n",
    "    }\n",
    "    return count;\n",
    "}\n",
    "\n",
    "constexpr std::array<std::string_view, 10> split_string(std::string_view str, char delimiter) {\n",
    "    std::array<std::string_view, 10> result{};\n",
    "    std::size_t start = 0;\n",
    "    std::size_t index = 0;\n",
    "\n",
    "    for (std::size_t i = 0; i < str.size(); ++i) {\n",
    "        if (str[i] == delimiter) {\n",
    "            result[index++] = str.substr(start, i - start);\n",
    "            start = i + 1;\n",
    "        }\n",
    "    }\n",
    "    result[index] = str.substr(start); // Add the last segment\n",
    "    return result;\n",
    "}\n",
    "\n",
    "#include <iostream>\n",
    "\n",
    "int main() {\n",
    "    constexpr std::string_view input = \"apple.banana.cherry.date\";\n",
    "    constexpr auto parts = split_string(input, '.');\n",
    "\n",
    "    for (const auto& part : parts) {\n",
    "        if (!part.empty()) { // Skip empty strings\n",
    "            std::cout << part << std::endl;\n",
    "        }\n",
    "    }\n",
    "\n",
    "    return 0;\n",
    "}\n",
    "``` \n",
    "This code defines a `split_string` function that takes a `std::string_view` and a delimiter character. It splits the string into parts and stores them in a `std::array`.The `count_delimiters` function counts how many times the delimiter appears in the string, which can be useful for determining the size of the resulting array. The `split_string` function iterates"
   ]
  },
  {
   "cell_type": "markdown",
   "id": "a8d0decd",
   "metadata": {},
   "source": []
  }
 ],
 "metadata": {
  "language_info": {
   "name": "python"
  }
 },
 "nbformat": 4,
 "nbformat_minor": 5
}
